{
 "cells": [
  {
   "cell_type": "code",
   "execution_count": 1,
   "metadata": {},
   "outputs": [
    {
     "name": "stderr",
     "output_type": "stream",
     "text": [
      "2020-11-11 17:08:20: oggm.cfg: Reading default parameters from the OGGM `params.cfg` configuration file.\n",
      "2020-11-11 17:08:20: oggm.cfg: Multiprocessing switched ON according to the parameter file.\n",
      "2020-11-11 17:08:20: oggm.cfg: Multiprocessing: using all available processors (N=4)\n",
      "2020-11-11 17:08:20: oggm.utils: Checking the download verification file checksum...\n"
     ]
    }
   ],
   "source": [
    "import numpy as np\n",
    "from combine.core.optimizer import idealized_inversion_experiment\n",
    "from oggm import cfg\n",
    "cfg.initialize()"
   ]
  },
  {
   "cell_type": "markdown",
   "metadata": {},
   "source": [
    "# Test is combination of include a return in function and test each step"
   ]
  },
  {
   "cell_type": "markdown",
   "metadata": {},
   "source": [
    "define options"
   ]
  },
  {
   "cell_type": "code",
   "execution_count": 2,
   "metadata": {},
   "outputs": [],
   "source": [
    "all_used_bed_h_geometry = ['linear', 'cliff', 'random']\n",
    "all_used_along_glacier_geometry = ['constant', 'random']\n",
    "all_bed_geometry = ['rectangular', 'parabolic', 'trapezoidal']\n",
    "all_mb_opts = [{'ELA': np.array([3000.]),'grad': np.array([4.])},\n",
    "               {'ELA': np.array([3000., 3200.]),'grad': np.array([4., 4.])}]\n",
    "all_glacier_state = ['equilibrium', 'advancing', 'retreating']\n",
    "all_opti_parameter = ['bed_h', 'bed_shape', 'bed_h and bed_shape',\n",
    "                      'w0', 'bed_h and w0']"
   ]
  },
  {
   "cell_type": "markdown",
   "metadata": {},
   "source": [
    "## geometry"
   ]
  },
  {
   "cell_type": "markdown",
   "metadata": {},
   "source": [
    "define_geometry checked"
   ]
  },
  {
   "cell_type": "markdown",
   "metadata": {},
   "source": [
    "## mb_model together with measurements"
   ]
  },
  {
   "cell_type": "markdown",
   "metadata": {},
   "source": [
    "define_mb_model checked\n",
    "\n",
    "create_measurements checked"
   ]
  },
  {
   "cell_type": "markdown",
   "metadata": {},
   "source": [
    "## first guess method"
   ]
  },
  {
   "cell_type": "markdown",
   "metadata": {},
   "source": [
    "get_first_guess checked"
   ]
  },
  {
   "cell_type": "code",
   "execution_count": 16,
   "metadata": {},
   "outputs": [
    {
     "name": "stdout",
     "output_type": "stream",
     "text": [
      "- Define geometry: \n",
      "---DONE---\n",
      "\n",
      "- Define mass balance model: \n",
      "---DONE---\n",
      "\n",
      "- Create Measurements: \n",
      "---DONE---\n",
      "\n",
      "- Get first guess: \n"
     ]
    },
    {
     "name": "stderr",
     "output_type": "stream",
     "text": [
      "2020-11-11 17:13:22: oggm.core.gis: (RGI50-11.00897) define_glacier_region\n",
      "2020-11-11 17:13:22: oggm.core.climate: (RGI50-11.00897) apparent_mb_from_linear_mb\n",
      "2020-11-11 17:13:22: oggm.core.inversion: (RGI50-11.00897) prepare_for_inversion\n",
      "2020-11-11 17:13:22: oggm.core.inversion: (RGI50-11.00897) mass_conservation_inversion\n"
     ]
    },
    {
     "name": "stdout",
     "output_type": "stream",
     "text": [
      "estimated ELA = 3233.243082483322 , grad = [4.]\n",
      "---DONE---\n"
     ]
    },
    {
     "data": {
      "text/plain": [
       "{'bed_h': array([3999.13001042, 3959.0705761 , 3920.28561061, 3880.73747721,\n",
       "        3840.92009969, 3800.97207962, 3760.95029005, 3720.88320691,\n",
       "        3680.78703963, 3640.67191588, 3600.54464827, 3560.41011669,\n",
       "        3520.27202018, 3480.13331539, 3439.99648814, 3399.86373179,\n",
       "        3359.73707137, 3319.61845597, 3279.50983258, 3239.41321028,\n",
       "        3199.33072072, 3159.26467981, 3119.21765505, 3079.19254315,\n",
       "        3039.19266304, 2999.22187132, 2959.28470871, 2919.38658997,\n",
       "        2879.5340541 , 2839.73509906, 2799.99963526, 2760.34010772,\n",
       "        2720.77236234, 2681.3168781 , 2642.0005728 , 2602.85950365,\n",
       "        2563.94268946, 2525.3159365 , 2487.05941017, 2449.24392967,\n",
       "        2411.91784905, 2385.37738518, 2300.23275016]),\n",
       " 'bed_shape': array([1.01499195, 1.0080787 , 0.98428028, 0.97328443, 0.96649485,\n",
       "        0.96161719, 0.95775686, 0.95448752, 0.95157763, 0.94888883,\n",
       "        0.94633188, 0.94384525, 0.94138385, 0.93891263, 0.93640276,\n",
       "        0.93382911, 0.93116866, 0.92839925, 0.92549866, 0.92244376,\n",
       "        0.91920984, 0.91576978, 0.91209323, 0.90814568, 0.90388727,\n",
       "        0.8992714 , 0.89424283, 0.88873531, 0.88266839, 0.8759431 ,\n",
       "        0.86843587, 0.85999011, 0.85040375, 0.83941049, 0.82664981,\n",
       "        0.8116164 , 0.79357189, 0.77139518, 0.74335239, 0.70675797,\n",
       "        0.65679415, 0.44970414, 1.03990674])}"
      ]
     },
     "execution_count": 16,
     "metadata": {},
     "output_type": "execute_result"
    }
   ],
   "source": [
    "first_guess = idealized_inversion_experiment(\n",
    "    used_bed_h_geometry=all_used_bed_h_geometry[0],\n",
    "    used_along_glacier_geometry=all_used_along_glacier_geometry[0],\n",
    "    bed_geometry=all_bed_geometry[1],\n",
    "    mb_opts=all_mb_opts[0],\n",
    "    glacier_state=all_glacier_state[1],\n",
    "    opti_parameter=all_opti_parameter[2],\n",
    "    two_parameter_option=None, # separated, at once\n",
    "    main_iterations_separeted=1,\n",
    "    reg_parameters=None,\n",
    "    wanted_c_terms=None,\n",
    "    torch_type='double',\n",
    "    minimize_options={'maxiter': 10,\n",
    "                     'ftol': 1e-7,\n",
    "                     'gtol': 1e-8,\n",
    "                     'disp': True,\n",
    "                     'maxcor': 50,\n",
    "                     'maxls': 50},\n",
    "    solver='L-BFGS-B',\n",
    "    show_plot=True\n",
    "    )\n",
    "first_guess"
   ]
  },
  {
   "cell_type": "code",
   "execution_count": null,
   "metadata": {},
   "outputs": [],
   "source": []
  }
 ],
 "metadata": {
  "kernelspec": {
   "display_name": "Python 3",
   "language": "python",
   "name": "python3"
  },
  "language_info": {
   "codemirror_mode": {
    "name": "ipython",
    "version": 3
   },
   "file_extension": ".py",
   "mimetype": "text/x-python",
   "name": "python",
   "nbconvert_exporter": "python",
   "pygments_lexer": "ipython3",
   "version": "3.8.6"
  },
  "toc": {
   "base_numbering": 1,
   "nav_menu": {},
   "number_sections": true,
   "sideBar": true,
   "skip_h1_title": false,
   "title_cell": "Table of Contents",
   "title_sidebar": "Contents",
   "toc_cell": false,
   "toc_position": {},
   "toc_section_display": true,
   "toc_window_display": false
  }
 },
 "nbformat": 4,
 "nbformat_minor": 4
}
