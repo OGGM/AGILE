{
 "cells": [
  {
   "cell_type": "code",
   "execution_count": 1,
   "metadata": {},
   "outputs": [
    {
     "name": "stderr",
     "output_type": "stream",
     "text": [
      "2020-11-11 17:54:42: oggm.cfg: Reading default parameters from the OGGM `params.cfg` configuration file.\n",
      "2020-11-11 17:54:42: oggm.cfg: Multiprocessing switched ON according to the parameter file.\n",
      "2020-11-11 17:54:42: oggm.cfg: Multiprocessing: using all available processors (N=4)\n",
      "2020-11-11 17:54:42: oggm.utils: Checking the download verification file checksum...\n"
     ]
    }
   ],
   "source": [
    "import numpy as np\n",
    "from combine.core.optimizer import idealized_inversion_experiment\n",
    "from oggm import cfg\n",
    "cfg.initialize()"
   ]
  },
  {
   "cell_type": "markdown",
   "metadata": {},
   "source": [
    "# Test is combination of include a return in function and test each step"
   ]
  },
  {
   "cell_type": "markdown",
   "metadata": {},
   "source": [
    "define options"
   ]
  },
  {
   "cell_type": "code",
   "execution_count": 2,
   "metadata": {},
   "outputs": [],
   "source": [
    "all_used_bed_h_geometry = ['linear', 'cliff', 'random']\n",
    "all_used_along_glacier_geometry = ['constant', 'random']\n",
    "all_bed_geometry = ['rectangular', 'parabolic', 'trapezoidal']\n",
    "all_mb_opts = [{'ELA': np.array([3000.]),'grad': np.array([4.])},\n",
    "               {'ELA': np.array([3000., 3200.]),'grad': np.array([4., 4.])}]\n",
    "all_glacier_state = ['equilibrium', 'advancing', 'retreating']\n",
    "all_opti_parameter = ['bed_h',               # 0\n",
    "                      'bed_shape',           # 1\n",
    "                      'bed_h and bed_shape', # 2\n",
    "                      'w0',                  # 3\n",
    "                      'bed_h and w0']        # 4"
   ]
  },
  {
   "cell_type": "markdown",
   "metadata": {},
   "source": [
    "## geometry"
   ]
  },
  {
   "cell_type": "markdown",
   "metadata": {},
   "source": [
    "define_geometry checked"
   ]
  },
  {
   "cell_type": "markdown",
   "metadata": {},
   "source": [
    "## mb_model together with measurements"
   ]
  },
  {
   "cell_type": "markdown",
   "metadata": {},
   "source": [
    "define_mb_model checked\n",
    "\n",
    "create_measurements checked"
   ]
  },
  {
   "cell_type": "markdown",
   "metadata": {},
   "source": [
    "## first guess method"
   ]
  },
  {
   "cell_type": "markdown",
   "metadata": {},
   "source": [
    "get_first_guess checked"
   ]
  },
  {
   "cell_type": "markdown",
   "metadata": {},
   "source": [
    "## reg parameters"
   ]
  },
  {
   "cell_type": "code",
   "execution_count": 9,
   "metadata": {},
   "outputs": [
    {
     "name": "stdout",
     "output_type": "stream",
     "text": [
      "- Define geometry: \n",
      "---DONE---\n",
      "\n",
      "- Define mass balance model: \n",
      "---DONE---\n",
      "\n",
      "- Create Measurements: \n",
      "---DONE---\n",
      "\n",
      "- Get first guess: \n"
     ]
    },
    {
     "name": "stderr",
     "output_type": "stream",
     "text": [
      "2020-11-11 17:58:02: oggm.core.gis: (RGI50-11.00897) define_glacier_region\n",
      "2020-11-11 17:58:02: oggm.core.climate: (RGI50-11.00897) apparent_mb_from_linear_mb\n",
      "2020-11-11 17:58:02: oggm.core.inversion: (RGI50-11.00897) prepare_for_inversion\n",
      "2020-11-11 17:58:02: oggm.core.inversion: (RGI50-11.00897) mass_conservation_inversion\n"
     ]
    },
    {
     "name": "stdout",
     "output_type": "stream",
     "text": [
      "estimated ELA = 3204.5206172030125 , grad = [4.]\n",
      "---DONE---\n",
      "\n",
      "- Calculate regularization parameters: \n",
      "\n",
      "reg_parameters = [1.e+00 1.e+03 1.e+00 1.e+04]\n",
      "---DONE---\n"
     ]
    }
   ],
   "source": [
    "reg_parameters = idealized_inversion_experiment(\n",
    "    used_bed_h_geometry=all_used_bed_h_geometry[2],\n",
    "    used_along_glacier_geometry=all_used_along_glacier_geometry[1],\n",
    "    bed_geometry=all_bed_geometry[0],\n",
    "    mb_opts=all_mb_opts[0],\n",
    "    glacier_state=all_glacier_state[1],\n",
    "    opti_parameter=all_opti_parameter[0],\n",
    "    two_parameter_option=None, # separated, at once\n",
    "    main_iterations_separeted=1,\n",
    "    reg_parameters=None,\n",
    "    wanted_c_terms=None,\n",
    "    torch_type='double',\n",
    "    minimize_options={'maxiter': 10,\n",
    "                     'ftol': 1e-7,\n",
    "                     'gtol': 1e-8,\n",
    "                     'disp': True,\n",
    "                     'maxcor': 50,\n",
    "                     'maxls': 50},\n",
    "    solver='L-BFGS-B',\n",
    "    show_plot=True\n",
    "    )"
   ]
  },
  {
   "cell_type": "code",
   "execution_count": null,
   "metadata": {},
   "outputs": [],
   "source": []
  }
 ],
 "metadata": {
  "kernelspec": {
   "display_name": "Python 3",
   "language": "python",
   "name": "python3"
  },
  "language_info": {
   "codemirror_mode": {
    "name": "ipython",
    "version": 3
   },
   "file_extension": ".py",
   "mimetype": "text/x-python",
   "name": "python",
   "nbconvert_exporter": "python",
   "pygments_lexer": "ipython3",
   "version": "3.8.6"
  },
  "toc": {
   "base_numbering": 1,
   "nav_menu": {},
   "number_sections": true,
   "sideBar": true,
   "skip_h1_title": false,
   "title_cell": "Table of Contents",
   "title_sidebar": "Contents",
   "toc_cell": false,
   "toc_position": {},
   "toc_section_display": true,
   "toc_window_display": false
  }
 },
 "nbformat": 4,
 "nbformat_minor": 4
}
