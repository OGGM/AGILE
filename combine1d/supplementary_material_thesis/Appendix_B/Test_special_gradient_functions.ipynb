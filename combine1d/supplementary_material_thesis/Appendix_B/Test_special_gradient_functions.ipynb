{
 "cells": [
  {
   "cell_type": "markdown",
   "metadata": {},
   "source": [
    "# Imports"
   ]
  },
  {
   "cell_type": "code",
   "execution_count": null,
   "metadata": {},
   "outputs": [],
   "source": [
    "# Add local repository to python path -> allows for importing here\n",
    "import sys\n",
    "sys.path.append(##FIXME##'/COMBINE')"
   ]
  },
  {
   "cell_type": "code",
   "execution_count": 1,
   "metadata": {},
   "outputs": [],
   "source": [
    "import torch\n",
    "from torch.autograd import gradcheck\n",
    "\n",
    "from combine1d.core.special_gradient_functions import para_thick_from_section, para_width_from_thick"
   ]
  },
  {
   "cell_type": "markdown",
   "metadata": {},
   "source": [
    "# Test"
   ]
  },
  {
   "cell_type": "code",
   "execution_count": 2,
   "metadata": {},
   "outputs": [
    {
     "name": "stdout",
     "output_type": "stream",
     "text": [
      "True\n",
      "True\n"
     ]
    }
   ],
   "source": [
    "# aliasing\n",
    "width_from_thick = para_width_from_thick.apply\n",
    "\n",
    "input_vars = (torch.abs(torch.rand(1000,dtype=torch.double,requires_grad=True))*1000 + 0.001,\n",
    "              torch.abs(torch.rand(1000,dtype=torch.double,requires_grad=True))*1000 + 0.001)\n",
    "test = gradcheck(width_from_thick, input_vars, eps=1e-6, atol=1e-5)\n",
    "print(test)\n",
    "\n",
    "thick_from_section = para_thick_from_section.apply\n",
    "input_vars = (torch.abs(torch.rand(1000,dtype=torch.double,requires_grad=True))*1000 + 0.001,\n",
    "              torch.abs(torch.rand(1000,dtype=torch.double,requires_grad=True))*1000 + 0.001)\n",
    "test = gradcheck(thick_from_section, input_vars, eps=1e-6, atol=1e-5)\n",
    "print(test)"
   ]
  },
  {
   "cell_type": "code",
   "execution_count": null,
   "metadata": {},
   "outputs": [],
   "source": []
  }
 ],
 "metadata": {
  "kernelspec": {
   "display_name": "Python 3",
   "language": "python",
   "name": "python3"
  },
  "language_info": {
   "codemirror_mode": {
    "name": "ipython",
    "version": 3
   },
   "file_extension": ".py",
   "mimetype": "text/x-python",
   "name": "python",
   "nbconvert_exporter": "python",
   "pygments_lexer": "ipython3",
   "version": "3.8.6"
  },
  "toc": {
   "base_numbering": 1,
   "nav_menu": {},
   "number_sections": true,
   "sideBar": true,
   "skip_h1_title": false,
   "title_cell": "Table of Contents",
   "title_sidebar": "Contents",
   "toc_cell": false,
   "toc_position": {},
   "toc_section_display": true,
   "toc_window_display": false
  }
 },
 "nbformat": 4,
 "nbformat_minor": 4
}
