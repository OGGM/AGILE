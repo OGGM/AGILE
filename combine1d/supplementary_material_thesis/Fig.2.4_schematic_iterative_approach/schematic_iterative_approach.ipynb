{
 "cells": [
  {
   "cell_type": "markdown",
   "metadata": {},
   "source": [
    "# Imports"
   ]
  },
  {
   "cell_type": "code",
   "execution_count": null,
   "metadata": {},
   "outputs": [],
   "source": [
    "import matplotlib\n",
    "import numpy as np\n",
    "import matplotlib.ticker as ticker\n",
    "import matplotlib.pyplot as plt\n",
    "from matplotlib.colors import LinearSegmentedColormap\n",
    "import seaborn as sns"
   ]
  },
  {
   "cell_type": "markdown",
   "metadata": {},
   "source": [
    "# Define Colors"
   ]
  },
  {
   "cell_type": "code",
   "execution_count": null,
   "metadata": {},
   "outputs": [],
   "source": [
    "colors = sns.color_palette(\"colorblind\")\n",
    "colors"
   ]
  },
  {
   "cell_type": "code",
   "execution_count": null,
   "metadata": {},
   "outputs": [],
   "source": [
    "color_1 = list(colors[3]) + [1.]\n",
    "color_2 = list(colors[0]) + [1.]"
   ]
  },
  {
   "cell_type": "markdown",
   "metadata": {},
   "source": [
    "# Figure"
   ]
  },
  {
   "cell_type": "code",
   "execution_count": null,
   "metadata": {},
   "outputs": [],
   "source": [
    "delta = 0.025\n",
    "x = np.arange(-3.0, 3.0, delta)\n",
    "y = np.arange(-2.0, 2.0, delta)\n",
    "X, Y = np.meshgrid(x, y)\n",
    "Z1 = np.exp(-X**2 - Y**2)\n",
    "Z2 = np.exp(-(X - 1)**2 - (Y - 1)**2)\n",
    "Z = (Z2 - Z1) * 2\n",
    "Z = (Z + np.abs(np.min(Z))) * 10\n",
    "\n",
    "# Define a class that forces representation of float to look a certain way\n",
    "# This remove trailing zero so '1.0' becomes '1'\n",
    "\n",
    "\n",
    "class nf(float):\n",
    "    def __repr__(self):\n",
    "        s = f'{self:.1f}'\n",
    "        return f'{self:.0f}' if s[-1] == '0' else s\n",
    "\n",
    "# Basic contour plot\n",
    "fig, ax = plt.subplots()\n",
    "ax.set_facecolor([0.7, 0.7, 0.7])\n",
    "levels = np.arange(1., 30., 2.)\n",
    "colors = sns.color_palette('Spectral', len(levels))    \n",
    "cmap = LinearSegmentedColormap.from_list('custom', colors, N=len(levels))\n",
    "CS = ax.contour(X, Y, Z, levels,\n",
    "                cmap=cmap\n",
    "               )\n",
    "\n",
    "# Recast levels to new class\n",
    "CS.levels = [nf(val) for val in CS.levels]\n",
    "\n",
    "# Label levels with specially formatted floats\n",
    "#if plt.rcParams[\"text.usetex\"]:\n",
    "#    fmt = r'%r \\%%'\n",
    "#else:\n",
    "#    fmt = '%r %%'\n",
    "fmt = '%r'\n",
    "ax.clabel(CS, CS.levels,\n",
    "          inline=True,\n",
    "          inline_spacing=1,\n",
    "          fmt=fmt, \n",
    "          fontsize=12)\n",
    "\n",
    "# draw path of guesses\n",
    "x = [0.5,\n",
    "     0.3, 0.2,\n",
    "     0.2, 0.2,\n",
    "     0.15, 0.1,\n",
    "     0.1, 0.1,\n",
    "     0, -0.05]\n",
    "y = [-1,\n",
    "     -1, -1,\n",
    "     -0.7, -0.5,\n",
    "     -0.5, -0.5,\n",
    "     -0.3, -0.2,\n",
    "     -0.2, -0.2]\n",
    "plt.plot(x, y, '-',\n",
    "         mec=color_1,\n",
    "         mfc=color_1,\n",
    "         c=color_2,\n",
    "         ms=5,\n",
    "         lw=3)\n",
    "plt.plot(x[1:], y[1:], 'o',\n",
    "         mec=color_1,\n",
    "         mfc=color_1,\n",
    "         c=color_2,\n",
    "         ms=7,\n",
    "         label='iterations')\n",
    "plt.plot(x[0], y[0], 'X',\n",
    "         mec=color_1,\n",
    "         mfc=color_1,\n",
    "         c=color_2,\n",
    "         ms=12,\n",
    "         label='start point (first guess)')\n",
    "ax.legend(fontsize=15)\n",
    "ax.set_xticks([])\n",
    "ax.set_yticks([])\n",
    "ax.set_xlabel(r'bed heights $b$', fontsize=15)\n",
    "ax.set_ylabel(r'bed shape factors $Ps$', fontsize=15)\n",
    "#ax.set_title(r'Cost Function $J(b,Ps)$', fontsize=20)\n",
    "plt.title(r'Cost Function $J(b,Ps)$', fontsize=20)\n",
    "ax.set_xlim([-1.5, 0.85])\n",
    "ax.set_ylim([-1.5, 1.3]);\n",
    "fig.savefig('schematic_iterative_approach.pdf',format='pdf',\n",
    "            bbox_inches='tight',\n",
    "            dpi=50)"
   ]
  }
 ],
 "metadata": {
  "kernelspec": {
   "display_name": "Python 3",
   "language": "python",
   "name": "python3"
  },
  "language_info": {
   "codemirror_mode": {
    "name": "ipython",
    "version": 3
   },
   "file_extension": ".py",
   "mimetype": "text/x-python",
   "name": "python",
   "nbconvert_exporter": "python",
   "pygments_lexer": "ipython3",
   "version": "3.8.6"
  },
  "toc": {
   "base_numbering": 1,
   "nav_menu": {},
   "number_sections": true,
   "sideBar": true,
   "skip_h1_title": false,
   "title_cell": "Table of Contents",
   "title_sidebar": "Contents",
   "toc_cell": false,
   "toc_position": {},
   "toc_section_display": true,
   "toc_window_display": false
  }
 },
 "nbformat": 4,
 "nbformat_minor": 4
}
