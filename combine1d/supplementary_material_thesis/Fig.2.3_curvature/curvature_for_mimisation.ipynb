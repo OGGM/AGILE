{
 "cells": [
  {
   "cell_type": "markdown",
   "metadata": {},
   "source": [
    "# Imports"
   ]
  },
  {
   "cell_type": "code",
   "execution_count": null,
   "metadata": {},
   "outputs": [],
   "source": [
    "import matplotlib.pyplot as plt\n",
    "import seaborn as sns\n",
    "import numpy as np"
   ]
  },
  {
   "cell_type": "markdown",
   "metadata": {},
   "source": [
    "# Define colors"
   ]
  },
  {
   "cell_type": "code",
   "execution_count": null,
   "metadata": {},
   "outputs": [],
   "source": [
    "colors = sns.color_palette(\"colorblind\")\n",
    "colors"
   ]
  },
  {
   "cell_type": "code",
   "execution_count": null,
   "metadata": {},
   "outputs": [],
   "source": [
    "color_1 = list(colors[3]) + [1.]\n",
    "color_2 = list(colors[0]) + [1.]\n",
    "axis_color = list(colors[7]) + [1.]"
   ]
  },
  {
   "cell_type": "markdown",
   "metadata": {},
   "source": [
    "# plot function"
   ]
  },
  {
   "cell_type": "code",
   "execution_count": null,
   "metadata": {},
   "outputs": [],
   "source": [
    "lw = 2\n",
    "ms = 15\n",
    "fontsize = 25\n",
    "\n",
    "x = np.arange(-3,3.1,0.1) \n",
    "y1 = 4 * x**2\n",
    "y2 = 2 * x**2\n",
    "p1_x = 1\n",
    "p2_x = 2\n",
    "k = 8\n",
    "\n",
    "fig = plt.figure(figsize=(15, 7))\n",
    "ax = fig.subplots()\n",
    "ax.plot(x,\n",
    "        y1,\n",
    "        c=color_1,\n",
    "        lw=lw,\n",
    "        label=r'$y_1=4x^2, y_1$\"$=8$')\n",
    "ax.plot(x,\n",
    "        y2,\n",
    "        c=color_2,\n",
    "        lw=lw,\n",
    "        label=r'$y_2=2x^2, y_2$\"$=4$')\n",
    "\n",
    "# plot points\n",
    "ax.plot(p1_x,\n",
    "        4*p1_x**2,\n",
    "        '.',\n",
    "        c='black',\n",
    "        ms=ms,\n",
    "        label=r\"points with $y_1$'=$y_2$'\")\n",
    "ax.plot(p2_x,\n",
    "        2*p2_x**2,\n",
    "        '.',\n",
    "        c='black',\n",
    "        ms=ms)\n",
    "\n",
    "# plot tangents\n",
    "ax.plot(x,\n",
    "        k*x + 4*p1_x**2 - 8 * p1_x,\n",
    "        '--',\n",
    "        c='black',\n",
    "        lw=lw,\n",
    "        zorder=1,\n",
    "        label='tangents')\n",
    "\n",
    "ax.plot(x,\n",
    "        k*x + 2*p2_x**2 - 8 * p2_x,\n",
    "        '--',\n",
    "        c='black',\n",
    "        zorder=1,\n",
    "        lw=lw)\n",
    "\n",
    "ax.set_ylim([0, 20])\n",
    "ax.set_xlim([-1, 3])\n",
    "\n",
    "# add y-axis\n",
    "plt.annotate(text='',\n",
    "             xy=(-1,0), \n",
    "             xytext=(-1,20),\n",
    "             arrowprops=dict(arrowstyle='<-',\n",
    "                             mutation_scale=25,\n",
    "                             color=list(colors[7]) + [1.],\n",
    "                             lw=lw),\n",
    "             zorder=1\n",
    "             )\n",
    "plt.text(-1,20.8,'y',\n",
    "             horizontalalignment='center',\n",
    "             verticalalignment='center',\n",
    "             fontsize=fontsize,\n",
    "             c=list(colors[7]) + [1.])\n",
    "# add x-axis\n",
    "plt.annotate(text='',\n",
    "             xy=(-1,0), \n",
    "             xytext=(3,0),\n",
    "             arrowprops=dict(arrowstyle='<-',\n",
    "                             mutation_scale=25,\n",
    "                             color=list(colors[7]) + [1.],\n",
    "                             lw=lw),\n",
    "             zorder=1\n",
    "             )\n",
    "plt.text(3.05,0,'x',\n",
    "             horizontalalignment='center',\n",
    "             verticalalignment='center',\n",
    "             fontsize=fontsize,\n",
    "             c=list(colors[7]) + [1.])\n",
    "\n",
    "# add 0 annotation\n",
    "plt.annotate(text='',\n",
    "             xy=(0,0), \n",
    "             xytext=(0,-0.4),\n",
    "             arrowprops=dict(arrowstyle='-',\n",
    "                             mutation_scale=25,\n",
    "                             color=list(colors[7]) + [1.],\n",
    "                             lw=lw),\n",
    "             zorder=1\n",
    "             )\n",
    "plt.text(0,-1,'0',\n",
    "             horizontalalignment='center',\n",
    "             verticalalignment='center',\n",
    "             fontsize=fontsize,\n",
    "             c=list(colors[7]) + [1.])\n",
    "\n",
    "ax.axis('off')\n",
    "ax.legend(fontsize=fontsize);\n",
    "\n",
    "fig.savefig('curvature_influence_minimisation.pdf',format='pdf',bbox_inches='tight',dpi=300)"
   ]
  }
 ],
 "metadata": {
  "kernelspec": {
   "display_name": "Python 3",
   "language": "python",
   "name": "python3"
  },
  "language_info": {
   "codemirror_mode": {
    "name": "ipython",
    "version": 3
   },
   "file_extension": ".py",
   "mimetype": "text/x-python",
   "name": "python",
   "nbconvert_exporter": "python",
   "pygments_lexer": "ipython3",
   "version": "3.8.6"
  },
  "toc": {
   "base_numbering": 1,
   "nav_menu": {},
   "number_sections": true,
   "sideBar": true,
   "skip_h1_title": false,
   "title_cell": "Table of Contents",
   "title_sidebar": "Contents",
   "toc_cell": false,
   "toc_position": {},
   "toc_section_display": true,
   "toc_window_display": false
  }
 },
 "nbformat": 4,
 "nbformat_minor": 4
}
